{
  "nbformat": 4,
  "nbformat_minor": 0,
  "metadata": {
    "colab": {
      "name": "Single Layer Perceptron (SLP).ipynb",
      "provenance": []
    },
    "kernelspec": {
      "name": "python3",
      "display_name": "Python 3"
    },
    "language_info": {
      "name": "python"
    }
  },
  "cells": [
    {
      "cell_type": "code",
      "execution_count": 12,
      "metadata": {
        "colab": {
          "base_uri": "https://localhost:8080/"
        },
        "id": "i-oKFbN8xJ8X",
        "outputId": "023628fc-59b4-439a-eddf-4386d14f8908"
      },
      "outputs": [
        {
          "output_type": "stream",
          "name": "stdout",
          "text": [
            "Output Layer Output (Linear)\n",
            "===============================\n",
            "[[23.]\n",
            " [26.]\n",
            " [29.]\n",
            " [32.]] \n",
            "\n"
          ]
        }
      ],
      "source": [
        "import numpy as np\n",
        "\n",
        "def forwardPass(inputs, weight, bias):\n",
        "        w_sum = np.dot(inputs, weight) + bias\n",
        "\n",
        "        # Linier Activation f(x) = x\n",
        "        act = w_sum\n",
        "\n",
        "        return act\n",
        "\n",
        "#pre-Trained Weight & Biases after Training\n",
        "W= np.array([[2.9999999999]])\n",
        "b= np.array([[1.999999999]])\n",
        "\n",
        "# Initialize Input Data\n",
        "inputs = np.array([[7], [8], [9], [10]])\n",
        "\n",
        "# Output of Output Layer\n",
        "o_out = forwardPass(inputs, W, b)\n",
        "\n",
        "print('Output Layer Output (Linear)')\n",
        "print('===============================')\n",
        "print(o_out, \"\\n\")"
      ]
    }
  ]
}