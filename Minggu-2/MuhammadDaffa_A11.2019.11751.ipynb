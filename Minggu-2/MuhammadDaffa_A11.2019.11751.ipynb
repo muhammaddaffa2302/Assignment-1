{
 "cells": [
  {
   "cell_type": "code",
   "execution_count": 1,
   "id": "ba1b69bb",
   "metadata": {},
   "outputs": [],
   "source": [
    "import pandas as pd\n",
    "df=pd.read_csv(\"jumlahsiswaputussekolahpadasmk2011.csv\")\n",
    "x = df.iloc[:, :-1].values\n",
    "y = df.iloc[:, -1].values"
   ]
  },
  {
   "cell_type": "code",
   "execution_count": 2,
   "id": "54ec3760",
   "metadata": {},
   "outputs": [
    {
     "name": "stdout",
     "output_type": "stream",
     "text": [
      "[[2011 'Kepulauan Seribu' 'Negeri' 'I']\n",
      " [2011 'Kepulauan Seribu' 'Negeri' 'II']\n",
      " [2011 'Kepulauan Seribu' 'Negeri' 'III']\n",
      " [2011 'Kepulauan Seribu' 'Swasta' 'I']\n",
      " [2011 'Kepulauan Seribu' 'Swasta' 'II']\n",
      " [2011 'Kepulauan Seribu' 'Swasta' 'III']\n",
      " [2011 'Jakarta Selatan' 'Negeri' 'I']\n",
      " [2011 'Jakarta Selatan' 'Negeri' 'II']\n",
      " [2011 'Jakarta Selatan' 'Negeri' 'III']\n",
      " [2011 'Jakarta Selatan' 'Swasta' 'I']\n",
      " [2011 'Jakarta Selatan' 'Swasta' 'II']\n",
      " [2011 'Jakarta Selatan' 'Swasta' 'III']\n",
      " [2011 'Jakarta Timur' 'Negeri' 'I']\n",
      " [2011 'Jakarta Timur' 'Negeri' 'II']\n",
      " [2011 'Jakarta Timur' 'Negeri' 'III']\n",
      " [2011 'Jakarta Timur' 'Swasta' 'I']\n",
      " [2011 'Jakarta Timur' 'Swasta' 'II']\n",
      " [2011 'Jakarta Timur' 'Swasta' 'III']\n",
      " [2011 'Jakarta Pusat' 'Negeri' 'I']\n",
      " [2011 'Jakarta Pusat' 'Negeri' 'II']\n",
      " [2011 'Jakarta Pusat' 'Negeri' 'III']\n",
      " [2011 'Jakarta Pusat' 'Swasta' 'I']\n",
      " [2011 'Jakarta Pusat' 'Swasta' 'II']\n",
      " [2011 'Jakarta Pusat' 'Swasta' 'III']\n",
      " [2011 'Jakarta Barat' 'Negeri' 'I']\n",
      " [2011 'Jakarta Barat' 'Negeri' 'II']\n",
      " [2011 'Jakarta Barat' 'Negeri' 'III']\n",
      " [2011 'Jakarta Barat' 'Swasta' 'I']\n",
      " [2011 'Jakarta Barat' 'Swasta' 'II']\n",
      " [2011 'Jakarta Barat' 'Swasta' 'III']\n",
      " [2011 'Jakarta Utara' 'Negeri' 'I']\n",
      " [2011 'Jakarta Utara' 'Negeri' 'II']\n",
      " [2011 'Jakarta Utara' 'Negeri' 'III']\n",
      " [2011 'Jakarta Utara' 'Swasta' 'I']\n",
      " [2011 'Jakarta Utara' 'Swasta' 'II']\n",
      " [2011 'Jakarta Utara' 'Swasta' 'III']]\n"
     ]
    }
   ],
   "source": [
    "print(x)"
   ]
  },
  {
   "cell_type": "code",
   "execution_count": 3,
   "id": "2ff4f22f",
   "metadata": {},
   "outputs": [
    {
     "name": "stdout",
     "output_type": "stream",
     "text": [
      "[  0   0   0   0   0   0  41   8   9 299 266 123   7   9   0 403 430 212\n",
      "  63  29   4  50  49  19  29  11  12 138 188  55  19   7   7 166  78  30]\n"
     ]
    }
   ],
   "source": [
    "print(y)"
   ]
  },
  {
   "cell_type": "code",
   "execution_count": null,
   "id": "596e88de",
   "metadata": {},
   "outputs": [],
   "source": []
  }
 ],
 "metadata": {
  "kernelspec": {
   "display_name": "Python 3 (ipykernel)",
   "language": "python",
   "name": "python3"
  },
  "language_info": {
   "codemirror_mode": {
    "name": "ipython",
    "version": 3
   },
   "file_extension": ".py",
   "mimetype": "text/x-python",
   "name": "python",
   "nbconvert_exporter": "python",
   "pygments_lexer": "ipython3",
   "version": "3.9.7"
  }
 },
 "nbformat": 4,
 "nbformat_minor": 5
}
