{
  "nbformat": 4,
  "nbformat_minor": 0,
  "metadata": {
    "colab": {
      "name": "c45.ipynb",
      "provenance": [],
      "collapsed_sections": []
    },
    "kernelspec": {
      "name": "python3",
      "display_name": "Python 3"
    },
    "language_info": {
      "name": "python"
    }
  },
  "cells": [
    {
      "cell_type": "code",
      "execution_count": 58,
      "metadata": {
        "id": "a8H8s0nORUjW"
      },
      "outputs": [],
      "source": [
        "#Import Library Scikit Learn untuk Decision Tree, Dataset dan Matplotlib\n",
        "from sklearn.tree import DecisionTreeClassifier\n",
        "from sklearn import datasets\n",
        "import matplotlib.pyplot as plt"
      ]
    },
    {
      "cell_type": "code",
      "source": [
        "#Load Dataset Iris dari Library Scikit Learn\n",
        "iris = datasets.load_iris()\n",
        "features = iris['data']\n",
        "target = iris['target']"
      ],
      "metadata": {
        "id": "sh7GMnbCTtOs"
      },
      "execution_count": 59,
      "outputs": []
    },
    {
      "cell_type": "code",
      "source": [
        "#Membuat Obejek Model Decision Tree\n",
        "decisiontree = DecisionTreeClassifier(random_state=0, \n",
        "max_depth=None, min_samples_split=2, min_samples_leaf=1, \n",
        "min_weight_fraction_leaf=0, max_leaf_nodes=None, min_impurity_decrease=0)"
      ],
      "metadata": {
        "id": "PgLl2uThUOy7"
      },
      "execution_count": 60,
      "outputs": []
    },
    {
      "cell_type": "code",
      "source": [
        "#Mentraining Model Decision Tree\n",
        "mdl = decisiontree.fit(features, target)"
      ],
      "metadata": {
        "id": "MohdJmjDVOD7"
      },
      "execution_count": 61,
      "outputs": []
    },
    {
      "cell_type": "code",
      "source": [
        "#Mengambil sampel observation dan membuat prediksi\n",
        "#Sampel berup data dimensi kelopak\n",
        "#Fungsi predict() = memeriksa kelas yang dimilikinya\n",
        "#Fungsi predict_proba() = memeriksa probabilitas kelas dari prediksi tersebut\n",
        "observation = [[5, 4, 3, 2]]\n",
        "mdl.predict(observation)\n",
        "mdl.predict_proba(observation)"
      ],
      "metadata": {
        "colab": {
          "base_uri": "https://localhost:8080/"
        },
        "id": "XNcODJtmVajb",
        "outputId": "63b022d7-bad9-46c1-c2be-471e4feb9b3d"
      },
      "execution_count": 62,
      "outputs": [
        {
          "output_type": "execute_result",
          "data": {
            "text/plain": [
              "array([[0., 1., 0.]])"
            ]
          },
          "metadata": {},
          "execution_count": 62
        }
      ]
    },
    {
      "cell_type": "code",
      "source": [
        "#Membuat grafik visualisasi Decision Tree\n",
        "from IPython.core.display import Image\n",
        "import pydotplus\n",
        "from sklearn import tree\n",
        "dot_data = tree.export_graphviz(decisiontree, out_file=None, \n",
        "    feature_names=iris['feature_names'], class_names=iris['target_names'])\n",
        "from IPython.display import Image\n",
        "graph = pydotplus.graph_from_dot_data(dot_data)\n",
        "Image(graph.create_png())\n",
        "graph.write_png('iris.png')                             "
      ],
      "metadata": {
        "colab": {
          "base_uri": "https://localhost:8080/"
        },
        "id": "L3zNyF0AVzh6",
        "outputId": "5b29f2f4-3379-48e9-9c2c-629081ce0273"
      },
      "execution_count": 63,
      "outputs": [
        {
          "output_type": "execute_result",
          "data": {
            "text/plain": [
              "True"
            ]
          },
          "metadata": {},
          "execution_count": 63
        }
      ]
    },
    {
      "cell_type": "code",
      "source": [
        "#Import Library Numpy, Pandas dan Scikit Learn\n",
        "import numpy as np\n",
        "import pandas as pd\n",
        "from sklearn import tree"
      ],
      "metadata": {
        "id": "GCwy3r7gpB10"
      },
      "execution_count": 79,
      "outputs": []
    },
    {
      "cell_type": "code",
      "source": [
        "#Membaca Dataset dari File ke Pandas dataFrame\n",
        "Dataset = pd.read_csv('Iris.csv', delimiter=',', header=0)"
      ],
      "metadata": {
        "id": "4rwEsSdSpG_T"
      },
      "execution_count": 80,
      "outputs": []
    },
    {
      "cell_type": "code",
      "source": [
        "#Mengubah kelas (kolom \"Species\") dari String ke Unique-Integer\n",
        "Dataset[\"Species\"] = pd.factorize(Dataset.Species)[0]"
      ],
      "metadata": {
        "id": "olpPdrJMpJns"
      },
      "execution_count": 81,
      "outputs": []
    },
    {
      "cell_type": "code",
      "source": [
        "#Menghapus kolom \"Id\"\n",
        "Dataset = Dataset.drop(labels=\"Id\", axis=1)"
      ],
      "metadata": {
        "id": "AIxHnw4bpMMj"
      },
      "execution_count": 82,
      "outputs": []
    },
    {
      "cell_type": "code",
      "source": [
        "#Mengubah dataFrame ke Array Numpy\n",
        "Dataset = Dataset.to_numpy()"
      ],
      "metadata": {
        "id": "vfMvsS-QpPO8"
      },
      "execution_count": 83,
      "outputs": []
    },
    {
      "cell_type": "code",
      "source": [
        "#Membagi Dataset => 80 baris data untuk Training dan 20 bari data untuk Testing\n",
        "dataTraining = np.concatenate((Dataset[0:40,:],\n",
        "                               Dataset[50:90,:]), axis=0)\n",
        "dataTesting = np.concatenate((Dataset[40:50,:],\n",
        "                               Dataset[90:100,:]), axis=0)"
      ],
      "metadata": {
        "id": "N-NZZG6opaJs"
      },
      "execution_count": 84,
      "outputs": []
    },
    {
      "cell_type": "code",
      "source": [
        "#Memecah Dataset ke Input dan Label\n",
        "inputTraining = dataTraining[:,0:4]\n",
        "inputTesting = dataTesting[:,0:4]\n",
        "labelTraining = dataTraining[:, 4]\n",
        "labelTesting = dataTesting[:, 4]"
      ],
      "metadata": {
        "id": "TLlcXT3Wpb3a"
      },
      "execution_count": 85,
      "outputs": []
    },
    {
      "cell_type": "code",
      "source": [
        "#Mendefinisikan Decision Tree Classifier\n",
        "mdl = tree.DecisionTreeClassifier()"
      ],
      "metadata": {
        "id": "V2vCyXgopfJy"
      },
      "execution_count": 86,
      "outputs": []
    },
    {
      "cell_type": "code",
      "source": [
        "#Mentraining Model\n",
        "mdl = mdl.fit(inputTraining, labelTraining)"
      ],
      "metadata": {
        "id": "fEzvLiQkpicS"
      },
      "execution_count": 87,
      "outputs": []
    },
    {
      "cell_type": "code",
      "source": [
        "#Memprediksi Input Data Testing\n",
        "hasilPrediksi = mdl.predict(inputTesting)\n",
        "print(\" label sebenarnya \", labelTesting)\n",
        "print(\" hasil prediksi \", hasilPrediksi)\n",
        "#Menghitung Akurasi\n",
        "prediksiBenar = (hasilPrediksi == labelTesting).sum()\n",
        "prediksiSalah = (hasilPrediksi != labelTesting).sum()\n",
        "print(\" Prediksi Benar \", prediksiBenar, \" data \")\n",
        "print(\" Prediksi Salah \", prediksiSalah, \" data \")\n",
        "print(\" akurasi: \", prediksiBenar/(prediksiBenar+prediksiSalah)* 100, \"%\")"
      ],
      "metadata": {
        "colab": {
          "base_uri": "https://localhost:8080/"
        },
        "id": "3t0ciGqxpnTk",
        "outputId": "4e67991c-71f0-48b2-b5c6-207ac0c24544"
      },
      "execution_count": 88,
      "outputs": [
        {
          "output_type": "stream",
          "name": "stdout",
          "text": [
            " label sebenarnya  [0. 0. 0. 0. 0. 0. 0. 0. 0. 0. 1. 1. 1. 1. 1. 1. 1. 1. 1. 1.]\n",
            " hasil prediksi  [0. 0. 0. 0. 0. 0. 0. 0. 0. 0. 1. 1. 1. 1. 1. 1. 1. 1. 1. 1.]\n",
            " Prediksi Benar  20  data \n",
            " Prediksi Salah  0  data \n",
            " akurasi:  100.0 %\n"
          ]
        }
      ]
    }
  ]
}